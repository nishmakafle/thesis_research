{
 "cells": [
  {
   "cell_type": "code",
   "execution_count": 5,
   "metadata": {},
   "outputs": [],
   "source": [
    "import os\n",
    "import cv2\n",
    "import numpy as np\n",
    "import tensorflow as tf\n",
    "from tensorflow.keras import layers, models\n",
    "import pathlib\n",
    "\n"
   ]
  },
  {
   "cell_type": "code",
   "execution_count": 9,
   "metadata": {},
   "outputs": [],
   "source": [
    "\n",
    "# Set the image size and normalization factor\n",
    "IMG_SIZE = 128\n",
    "NORM_FACTOR = 255.0\n",
    "\n",
    "def compress_image(image, format='jpg', quality=80):\n",
    "    # Check the format and set the appropriate encoding parameters\n",
    "    if format.lower() == 'jpg':\n",
    "        encode_param = [int(cv2.IMWRITE_JPEG_QUALITY), quality]\n",
    "        ext = '.jpg'\n",
    "    elif format.lower() == 'png':\n",
    "        encode_param = [int(cv2.IMWRITE_PNG_COMPRESSION), int((100 - quality) / 10)]\n",
    "        ext = '.png'\n",
    "    elif format.lower() == 'tiff':\n",
    "        encode_param = [int(cv2.IMWRITE_TIFF_COMPRESSION), quality]  \n",
    "        ext = '.tiff'\n",
    "    elif format.lower() == 'tif':\n",
    "        encode_param = [int(cv2.IMWRITE_TIFF_COMPRESSION), quality]  \n",
    "        ext = '.tif'\n",
    "    else:\n",
    "        raise ValueError(\"Unsupported format: {}\".format(format))\n",
    "\n",
    "    # Encode the image to the specified format\n",
    "    success, encoded_image = cv2.imencode(ext, image, encode_param)\n",
    "    if not success:\n",
    "        raise RuntimeError(\"Image encoding failed\")\n",
    "\n",
    "    # Decode the image back to its original form\n",
    "    compressed_image = cv2.imdecode(encoded_image, cv2.IMREAD_COLOR)\n",
    "    return compressed_image\n",
    "\n",
    "\n",
    "# Function to calculate the difference image\n",
    "def calculate_difference_image(original_image, compressed_image):\n",
    "    diff_image = cv2.absdiff(original_image, compressed_image)\n",
    "    return diff_image\n",
    "\n",
    "def preprocess_image(image_path):\n",
    "    # Load the forged image (F)\n",
    "    original_image = cv2.imread(str(image_path))\n",
    "    # original_image = cv2.cvtColor(original_image, cv2.COLOR_BGR2RGB)\n",
    "\n",
    "    # # Compress the image to get Fcomp\n",
    "    compressed_image = compress_image(original_image, quality=80)\n",
    "\n",
    "    # # Calculate Fdiff\n",
    "    diff_image = calculate_difference_image(original_image, compressed_image)\n",
    "\n",
    "    # Resize Fdiff to 160x160 pixels\n",
    "    resized_diff_image = cv2.resize(diff_image, (224, 224))\n",
    "\n",
    "    # Normalize the image\n",
    "    normalized_diff_image = resized_diff_image / 255.0\n",
    "\n",
    "    return normalized_diff_image\n",
    "\n"
   ]
  },
  {
   "cell_type": "code",
   "execution_count": 13,
   "metadata": {},
   "outputs": [
    {
     "name": "stdout",
     "output_type": "stream",
     "text": [
      "(12560, 224, 224, 3) (12560,)\n"
     ]
    }
   ],
   "source": [
    "# Load images from a directory (adjust the path to where your dataset is stored)\n",
    "dataset_path = \"/Users/logpoint/Documents/SoftwareProjects/Thesis/CASIA22\"\n",
    "data_dir = pathlib.Path(dataset_path)\n",
    "images_dict = {\n",
    "    'NonForged': list(data_dir.glob('Au/*')),\n",
    "    'Forged': list(data_dir.glob('Tp/*')),\n",
    "}\n",
    "\n",
    "labels_dict = {\n",
    "    'NonForged': 0,\n",
    "    'Forged': 1\n",
    "}\n",
    "\n",
    "X, y = [], []\n",
    "\n",
    "for label, images in images_dict.items():\n",
    "    for image in images:        \n",
    "        if image is None:\n",
    "            print(f\"Failed to load image: {image}\")\n",
    "            continue\n",
    "        if image.name.rsplit(\".\")[-1] not in [\"jpg\", \"jpeg\", \"png\", \"tif\", \"tiff\"]:\n",
    "            continue\n",
    "        processed_image = preprocess_image(image)\n",
    "        X.append(processed_image)\n",
    "        y.append(labels_dict[label])\n",
    "\n",
    "X = np.array(X)\n",
    "y = np.array(y)\n",
    "print(X.shape, y.shape)"
   ]
  },
  {
   "cell_type": "code",
   "execution_count": null,
   "metadata": {},
   "outputs": [
    {
     "name": "stdout",
     "output_type": "stream",
     "text": [
      "Downloading data from https://storage.googleapis.com/tensorflow/keras-applications/vgg16/vgg16_weights_tf_dim_ordering_tf_kernels_notop.h5\n",
      "\u001b[1m58889256/58889256\u001b[0m \u001b[32m━━━━━━━━━━━━━━━━━━━━\u001b[0m\u001b[37m\u001b[0m \u001b[1m5s\u001b[0m 0us/step\n"
     ]
    }
   ],
   "source": [
    "import tensorflow as tf\n",
    "from tensorflow.keras.applications import VGG16\n",
    "from tensorflow.keras.layers import Dense, Flatten, Dropout\n",
    "from tensorflow.keras.models import Model\n",
    "from tensorflow.keras.optimizers import Adam\n",
    "\n",
    "# Load the pre-trained VGG16 model\n",
    "base_model = VGG16(weights='imagenet', include_top=False, input_shape=(224, 224, 3))\n",
    "\n",
    "# Freeze the convolutional base\n",
    "for layer in base_model.layers:\n",
    "    layer.trainable = False\n",
    "\n",
    "\n",
    "# Build the fine-tuned model\n",
    "x = base_model.output\n",
    "x = Flatten()(x)\n",
    "x = Dense(4096, activation='relu')(x)\n",
    "x = Dropout(0.5)(x)  # Add dropout to reduce overfitting\n",
    "x = Dense(4096, activation='relu')(x)\n",
    "x = Dropout(0.5)(x)\n",
    "x = Dense(2, activation='softmax')(x)  # Binary classification\n",
    "\n",
    "# Define the model\n",
    "model = Model(inputs=base_model.input, outputs=x)\n",
    "\n",
    "# Compile the model\n",
    "# Compile the model with sparse_categorical_crossentropy\n",
    "model.compile(optimizer=Adam(learning_rate=0.0001), \n",
    "              loss='sparse_categorical_crossentropy', \n",
    "              metrics=['accuracy'])\n",
    "\n",
    "# Split the data into training and validation sets\n",
    "from sklearn.model_selection import train_test_split\n",
    "train_images, test_images, train_labels, test_labels = train_test_split(X, y, test_size=0.20)\n",
    "\n",
    "# Train the model\n",
    "from tensorflow.keras.callbacks import EarlyStopping\n",
    "\n",
    "history = model.fit(train_images, train_labels,\n",
    "                    validation_data=(test_images, test_labels),\n",
    "                    epochs=12)\n"
   ]
  },
  {
   "cell_type": "code",
   "execution_count": null,
   "metadata": {},
   "outputs": [],
   "source": [
    "evaluation = model.evaluate(test_images, test_labels)"
   ]
  }
 ],
 "metadata": {
  "kernelspec": {
   "display_name": "venv",
   "language": "python",
   "name": "python3"
  },
  "language_info": {
   "codemirror_mode": {
    "name": "ipython",
    "version": 3
   },
   "file_extension": ".py",
   "mimetype": "text/x-python",
   "name": "python",
   "nbconvert_exporter": "python",
   "pygments_lexer": "ipython3",
   "version": "3.12.0"
  }
 },
 "nbformat": 4,
 "nbformat_minor": 2
}
